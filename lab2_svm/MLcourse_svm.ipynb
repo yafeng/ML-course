{
 "cells": [
  {
   "cell_type": "code",
   "execution_count": 1,
   "metadata": {
    "collapsed": true
   },
   "outputs": [],
   "source": [
    "from cvxopt.solvers import qp\n",
    "from cvxopt.base import matrix"
   ]
  },
  {
   "cell_type": "code",
   "execution_count": 2,
   "metadata": {
    "collapsed": true
   },
   "outputs": [],
   "source": [
    "import numpy,pylab,random,math"
   ]
  },
  {
   "cell_type": "code",
   "execution_count": 14,
   "metadata": {
    "collapsed": true
   },
   "outputs": [],
   "source": [
    "def linear_kernel(x,y):\n",
    "    return sum(p*q for p,q in zip(x,y))+1    "
   ]
  },
  {
   "cell_type": "code",
   "execution_count": 90,
   "metadata": {
    "collapsed": true
   },
   "outputs": [],
   "source": [
    "def indicator(x,y): # x, y are coordinates of new data points\n",
    "    sum=0\n",
    "    for p in data_update:\n",
    "        sum+=linear_kernel((x,y),p[:2])*p[2]*p[3]\n",
    "        \n",
    "    return sum"
   ]
  },
  {
   "cell_type": "markdown",
   "metadata": {},
   "source": [
    "# generating testing data"
   ]
  },
  {
   "cell_type": "code",
   "execution_count": 67,
   "metadata": {
    "collapsed": false
   },
   "outputs": [],
   "source": [
    "classA = [(random.gauss (-3,1),random.gauss(2.5,1),1.0) for i in range(5)]+[(random.gauss (3,1),random.gauss(2.5,1),1.0) for i in range(5)]"
   ]
  },
  {
   "cell_type": "code",
   "execution_count": 68,
   "metadata": {
    "collapsed": false
   },
   "outputs": [],
   "source": [
    "classB = [(random.gauss (0,0.5),random.gauss(-0.5,0.5),-1.0) for i in range(10)] "
   ]
  },
  {
   "cell_type": "code",
   "execution_count": 69,
   "metadata": {
    "collapsed": false
   },
   "outputs": [],
   "source": [
    "data = classA + classB\n",
    "random.shuffle(data)"
   ]
  },
  {
   "cell_type": "code",
   "execution_count": 11,
   "metadata": {
    "collapsed": true
   },
   "outputs": [],
   "source": [
    "%matplotlib inline"
   ]
  },
  {
   "cell_type": "code",
   "execution_count": 70,
   "metadata": {
    "collapsed": false
   },
   "outputs": [
    {
     "data": {
      "text/plain": [
       "[<matplotlib.lines.Line2D at 0x1121e0890>]"
      ]
     },
     "execution_count": 70,
     "metadata": {},
     "output_type": "execute_result"
    },
    {
     "data": {
      "image/png": "[encoded data removed]",
      "text/plain": [
       "<matplotlib.figure.Figure at 0x1120bc750>"
      ]
     },
     "metadata": {},
     "output_type": "display_data"
    }
   ],
   "source": [
    "pylab.plot([p[0] for p in classA],[p[1] for p in classA],\"bo\")\n",
    "pylab.plot([p[0] for p in classB],[p[1] for p in classB],\"ro\")"
   ]
  },
  {
   "cell_type": "markdown",
   "metadata": {},
   "source": [
    "# build the P matrix from a given dataset"
   ]
  },
  {
   "cell_type": "code",
   "execution_count": 71,
   "metadata": {
    "collapsed": false
   },
   "outputs": [],
   "source": [
    "P=[]\n",
    "for p in data:\n",
    "    l=[]\n",
    "    for q in data:\n",
    "        l.append(linear_kernel(p[:2],q[:2])*p[2]*q[2])\n",
    "    P.append(l)"
   ]
  },
  {
   "cell_type": "markdown",
   "metadata": {},
   "source": [
    "# build the vector q, G, h"
   ]
  },
  {
   "cell_type": "code",
   "execution_count": 72,
   "metadata": {
    "collapsed": true
   },
   "outputs": [],
   "source": [
    "q=matrix([-1]*20,(20,1),\"d\") # q,h,G must be double type matrix\n",
    "h=matrix([0]*20,(20,1),\"d\")\n",
    "G=-1*numpy.eye(20,dtype=float)"
   ]
  },
  {
   "cell_type": "code",
   "execution_count": 73,
   "metadata": {
    "collapsed": false
   },
   "outputs": [
    {
     "name": "stdout",
     "output_type": "stream",
     "text": [
      "12.278446734\n"
     ]
    }
   ],
   "source": [
    "print linear_kernel(data[0][:2],data[0][:2])"
   ]
  },
  {
   "cell_type": "code",
   "execution_count": 74,
   "metadata": {
    "collapsed": false
   },
   "outputs": [
    {
     "name": "stdout",
     "output_type": "stream",
     "text": [
      "[ 1.23e+01 -9.19e-01  8.35e-01  1.54e+00 -1.71e+00  1.22e+01 -3.87e-01 ... ]\n",
      "[-9.19e-01  1.01e+00  9.38e-01 -1.35e+00  9.16e-01 -9.46e-01  1.03e+00 ... ]\n",
      "[ 8.35e-01  9.38e-01  2.04e+00  2.59e+00  1.66e+00  1.09e+00  8.41e-01 ... ]\n",
      "[ 1.54e+00 -1.35e+00  2.59e+00  1.75e+01  2.63e+00  2.78e+00 -2.18e+00 ... ]\n",
      "[-1.71e+00  9.16e-01  1.66e+00  2.63e+00  1.86e+00 -1.43e+00  6.90e-01 ... ]\n",
      "[ 1.22e+01 -9.46e-01  1.09e+00  2.78e+00 -1.43e+00  1.22e+01 -4.82e-01 ... ]\n",
      "[-3.87e-01  1.03e+00  8.41e-01 -2.18e+00  6.90e-01 -4.82e-01  1.12e+00 ... ]\n",
      "[ 2.66e+00 -1.31e+00  2.50e+00  1.63e+01  2.28e+00  3.80e+00 -2.03e+00 ... ]\n",
      "[ 9.50e+00 -1.00e+00  1.02e+00  4.38e+00 -8.73e-01  9.67e+00 -7.58e-01 ... ]\n",
      "[ 9.53e+00 -9.77e-01  7.63e-01  3.17e+00 -1.15e+00  9.62e+00 -6.67e-01 ... ]\n",
      "[-8.29e-01  9.85e-01  1.19e+00 -2.26e-01  1.16e+00 -7.72e-01  9.53e-01 ... ]\n",
      "[-5.56e+00 -1.49e+00  2.31e+00  2.13e+01  4.00e+00 -3.97e+00 -2.88e+00 ... ]\n",
      "[ 5.14e+00  1.08e+00  1.61e+00 -2.52e+00  2.07e-01  4.97e+00  1.47e+00 ... ]\n",
      "[-1.61e+00  9.49e-01  1.37e+00  1.16e+00  1.53e+00 -1.44e+00  8.05e-01 ... ]\n",
      "[-4.67e+00 -1.42e+00  1.81e+00  1.83e+01  3.28e+00 -3.32e+00 -2.61e+00 ... ]\n",
      "[ 1.31e+01 -9.52e-01  1.35e+00  3.39e+00 -1.36e+00  1.32e+01 -4.78e-01 ... ]\n",
      "[ 1.37e+00  9.87e-01  1.68e+00  5.13e-01  1.16e+00  1.46e+00  1.03e+00 ... ]\n",
      "[-4.36e+00 -1.34e+00  1.10e+00  1.47e+01  2.45e+00 -3.28e+00 -2.32e+00 ... ]\n",
      "[ 1.61e+00  1.01e+00  1.53e+00 -3.80e-01  9.45e-01  1.64e+00  1.11e+00 ... ]\n",
      "[-2.67e-01  1.02e+00  1.00e+00 -1.52e+00  8.30e-01 -3.13e-01  1.08e+00 ... ]\n",
      "\n"
     ]
    }
   ],
   "source": [
    "print matrix(P)"
   ]
  },
  {
   "cell_type": "markdown",
   "metadata": {},
   "source": [
    "# call the function qp to solve our quadratic optimization problem"
   ]
  },
  {
   "cell_type": "code",
   "execution_count": 75,
   "metadata": {
    "collapsed": false
   },
   "outputs": [
    {
     "name": "stdout",
     "output_type": "stream",
     "text": [
      "     pcost       dcost       gap    pres   dres\n",
      " 0: -2.1135e+00 -4.3993e+00  4e+01  6e+00  2e+00\n",
      " 1: -1.1326e+00 -3.1255e+00  9e+00  1e+00  3e-01\n",
      " 2: -7.8509e-01 -1.7544e+00  1e+00  2e-16  9e-16\n",
      " 3: -1.1822e+00 -1.3822e+00  2e-01  2e-16  4e-16\n",
      " 4: -1.3337e+00 -1.3646e+00  3e-02  1e-16  8e-16\n",
      " 5: -1.3545e+00 -1.3549e+00  3e-04  2e-16  9e-16\n",
      " 6: -1.3548e+00 -1.3548e+00  3e-06  5e-16  7e-16\n",
      " 7: -1.3548e+00 -1.3548e+00  3e-08  5e-16  8e-16\n",
      "Optimal solution found.\n"
     ]
    }
   ],
   "source": [
    "r=qp(matrix(P),q,matrix(G),h)"
   ]
  },
  {
   "cell_type": "code",
   "execution_count": 76,
   "metadata": {
    "collapsed": true
   },
   "outputs": [],
   "source": [
    "alpha=list(r[\"x\"])"
   ]
  },
  {
   "cell_type": "code",
   "execution_count": 77,
   "metadata": {
    "collapsed": false
   },
   "outputs": [
    {
     "data": {
      "text/plain": [
       "[1.2342235764378279e-09,\n",
       " 1.4226966032330819e-08,\n",
       " 1.1307609951712292e-09,\n",
       " 8.270062512138984e-10,\n",
       " 1.744069942617708e-09,\n",
       " 2.553623595446579e-09,\n",
       " 1.933783072124257,\n",
       " 8.510293908384701e-10,\n",
       " 3.4774813950296403e-09,\n",
       " 0.3803205354487958,\n",
       " 3.955780947297807e-09,\n",
       " 1.1216301832537215e-09,\n",
       " 1.4894138714314768e-09,\n",
       " 2.7555049973501693e-09,\n",
       " 1.8291290207842835e-09,\n",
       " 1.6821016761647203e-09,\n",
       " 1.5483880110894212e-09,\n",
       " 0.395411606870636,\n",
       " 1.8413699898097852e-09,\n",
       " 7.591966671459444e-09]"
      ]
     },
     "execution_count": 77,
     "metadata": {},
     "output_type": "execute_result"
    }
   ],
   "source": [
    "alpha"
   ]
  },
  {
   "cell_type": "markdown",
   "metadata": {},
   "source": [
    "# save non-zero alpha values and corresponding data points"
   ]
  },
  {
   "cell_type": "code",
   "execution_count": 79,
   "metadata": {
    "collapsed": false
   },
   "outputs": [
    {
     "name": "stdout",
     "output_type": "stream",
     "text": [
      "[(0.33439914135421495, 0.10583928754139804, -1.0, 1.933783072124257), (-1.6291502800722057, 1.9973254268377232, 1.0, 0.3803205354487958), (3.4650212538028846, 1.5432718447228706, 1.0, 0.395411606870636)]\n"
     ]
    }
   ],
   "source": [
    "data_update=[]\n",
    "for i in range(len(alpha)):\n",
    "    if alpha[i]>10e-05:\n",
    "        p=data[i]\n",
    "        data_update.append(p+(alpha[i],))\n",
    "\n",
    "print data_update    "
   ]
  },
  {
   "cell_type": "markdown",
   "metadata": {},
   "source": [
    "# plotting the decision boundary"
   ]
  },
  {
   "cell_type": "code",
   "execution_count": 87,
   "metadata": {
    "collapsed": false
   },
   "outputs": [],
   "source": [
    "xrange = numpy.arange(-4,4,0.05)\n",
    "yrange = numpy.arange(-4,4,0.05)"
   ]
  },
  {
   "cell_type": "code",
   "execution_count": 91,
   "metadata": {
    "collapsed": false
   },
   "outputs": [],
   "source": [
    "grid = matrix([[indicator(x,y) for y in yrange] for x in xrange])"
   ]
  },
  {
   "cell_type": "code",
   "execution_count": 93,
   "metadata": {
    "collapsed": false
   },
   "outputs": [
    {
     "data": {
      "text/plain": [
       "<matplotlib.contour.QuadContourSet instance at 0x1125667e8>"
      ]
     },
     "execution_count": 93,
     "metadata": {},
     "output_type": "execute_result"
    },
    {
     "data": {
      "image/png": "[encoded data removed]",
      "text/plain": [
       "<matplotlib.figure.Figure at 0x11228abd0>"
      ]
     },
     "metadata": {},
     "output_type": "display_data"
    }
   ],
   "source": [
    "pylab.plot([p[0] for p in classA],[p[1] for p in classA],\"bo\")\n",
    "pylab.plot([p[0] for p in classB],[p[1] for p in classB],\"ro\")\n",
    "pylab.contour(xrange,yrange,grid,(-1.0,0.0,1.0),colors=(\"red\",\"black\",\"blue\"),linewidths=(1,3,1))"
   ]
  },
  {
   "cell_type": "markdown",
   "metadata": {},
   "source": [
    "# define a non-linear kernel to classify a very hard dataset"
   ]
  },
  {
   "cell_type": "code",
   "execution_count": 94,
   "metadata": {
    "collapsed": true
   },
   "outputs": [],
   "source": [
    "def polynomial_kernel(x,y,p): # the exponent p controls the degree of polymonials\n",
    "    return math.pow(linear_kernel(x,y),p)"
   ]
  },
  {
   "cell_type": "markdown",
   "metadata": {},
   "source": [
    "# generate a hard testing dataset"
   ]
  },
  {
   "cell_type": "code",
   "execution_count": 100,
   "metadata": {
    "collapsed": false
   },
   "outputs": [],
   "source": [
    "class1 = [(random.gauss (-3,1),random.gauss(2.5,1),1.0) for i in range(5)]+[(random.gauss (0,1),random.gauss(1,1),1.0) for i in range(5)]+[(random.gauss (3,1),random.gauss(2.5,1),1.0) for i in range(5)]"
   ]
  },
  {
   "cell_type": "code",
   "execution_count": 101,
   "metadata": {
    "collapsed": true
   },
   "outputs": [],
   "source": [
    "class2 = [(random.gauss (-3.5,1),random.gauss(0.5,1),-1.0) for i in range(5)]+[(random.gauss (-0.5,1),random.gauss(-1,1),-1.0) for i in range(5)]+[(random.gauss (3,1),random.gauss(0.5,1),-1.0) for i in range(5)]"
   ]
  },
  {
   "cell_type": "code",
   "execution_count": 98,
   "metadata": {
    "collapsed": false
   },
   "outputs": [
    {
     "data": {
      "text/plain": [
       "[<matplotlib.lines.Line2D at 0x1123f9350>]"
      ]
     },
     "execution_count": 98,
     "metadata": {},
     "output_type": "execute_result"
    },
    {
     "data": {
      "image/png": "[encoded data removed]",
      "text/plain": [
       "<matplotlib.figure.Figure at 0x1122d5d90>"
      ]
     },
     "metadata": {},
     "output_type": "display_data"
    }
   ],
   "source": [
    "pylab.plot([p[0] for p in class1],[p[1] for p in class1],\"bo\")\n",
    "pylab.plot([p[0] for p in class2],[p[1] for p in class2],\"ro\")"
   ]
  },
  {
   "cell_type": "code",
   "execution_count": 102,
   "metadata": {
    "collapsed": true
   },
   "outputs": [],
   "source": [
    "data2=class1+class2\n",
    "random.shuffle(data2)"
   ]
  },
  {
   "cell_type": "code",
   "execution_count": 105,
   "metadata": {
    "collapsed": false
   },
   "outputs": [],
   "source": [
    "P2=[]\n",
    "for p in data2:\n",
    "    l=[]\n",
    "    for q in data2:\n",
    "        l.append(polynomial_kernel(p[:2],q[:2],2)*p[2]*q[2]) # exponent p = 2\n",
    "    P2.append(l)\n",
    "\n",
    "q=matrix([-1]*30,(30,1),\"d\") # q,h,G must be double type matrix\n",
    "h=matrix([0]*30,(30,1),\"d\")\n",
    "G=-1*numpy.eye(30,dtype=float)"
   ]
  },
  {
   "cell_type": "code",
   "execution_count": 106,
   "metadata": {
    "collapsed": false
   },
   "outputs": [
    {
     "name": "stdout",
     "output_type": "stream",
     "text": [
      "     pcost       dcost       gap    pres   dres\n",
      " 0: -1.2909e+01 -3.4500e+01  1e+02  8e+00  3e+00\n",
      " 1: -5.4785e+01 -9.3845e+01  8e+01  5e+00  2e+00\n",
      " 2: -2.2217e+02 -2.8163e+02  6e+01  4e+00  1e+00\n",
      " 3: -7.5044e+02 -8.5270e+02  1e+02  3e+00  1e+00\n",
      " 4: -2.9235e+03 -3.1836e+03  3e+02  3e+00  1e+00\n",
      " 5: -1.3494e+04 -1.4339e+04  8e+02  3e+00  1e+00\n",
      " 6: -1.1130e+05 -1.1529e+05  4e+03  3e+00  1e+00\n",
      " 7: -2.5296e+06 -2.5521e+06  2e+04  3e+00  1e+00\n",
      " 8: -2.6623e+08 -2.6642e+08  2e+05  3e+00  1e+00\n",
      " 9: -8.1482e+09 -8.1541e+09  6e+06  3e+00  1e+00\n",
      "10: -6.7644e+10 -6.7690e+10  5e+07  3e+00  1e+00\n",
      "Terminated (singular KKT matrix).\n"
     ]
    }
   ],
   "source": [
    "r2=qp(matrix(P2),q,matrix(G),h)"
   ]
  },
  {
   "cell_type": "markdown",
   "metadata": {},
   "source": [
    "# p = 2 can't find optimal solution, try p = 5"
   ]
  },
  {
   "cell_type": "code",
   "execution_count": 109,
   "metadata": {
    "collapsed": false
   },
   "outputs": [
    {
     "name": "stdout",
     "output_type": "stream",
     "text": [
      "     pcost       dcost       gap    pres   dres\n",
      " 0: -7.5458e+00 -2.2320e+01  1e+02  9e+00  3e+00\n",
      " 1: -2.3049e+01 -4.6603e+01  1e+02  6e+00  2e+00\n",
      " 2: -8.3323e+01 -1.0500e+02  7e+01  4e+00  1e+00\n",
      " 3: -1.8322e+02 -2.0801e+02  8e+01  4e+00  1e+00\n",
      " 4: -3.5795e+02 -3.8118e+02  1e+02  3e+00  1e+00\n",
      " 5: -2.5099e+02 -2.3977e+02  2e+02  2e+00  7e-01\n",
      " 6: -9.9346e+01 -5.7492e+01  2e+02  1e+00  4e-01\n",
      " 7: -4.2066e+01 -1.5938e+01  6e+01  4e-01  1e-01\n",
      " 8: -2.8429e+00 -4.3260e+00  3e+01  8e-02  3e-02\n",
      " 9: -1.1690e+00 -2.8123e+00  7e+00  2e-02  6e-03\n",
      "10: -1.4785e+00 -2.2824e+00  2e+00  6e-03  2e-03\n",
      "11: -1.3662e+00 -2.0232e+00  2e+00  3e-03  9e-04\n",
      "12: -1.3838e+00 -1.7872e+00  1e+00  1e-03  4e-04\n",
      "13: -1.4326e+00 -1.4856e+00  1e-01  1e-04  4e-05\n",
      "14: -1.4402e+00 -1.4430e+00  5e-03  4e-06  1e-06\n",
      "15: -1.4415e+00 -1.4415e+00  5e-05  4e-08  1e-08\n",
      "16: -1.4415e+00 -1.4415e+00  5e-07  4e-10  1e-10\n",
      "Optimal solution found.\n"
     ]
    }
   ],
   "source": [
    "P2=[]\n",
    "for p in data2:\n",
    "    l=[]\n",
    "    for q in data2:\n",
    "        l.append(polynomial_kernel(p[:2],q[:2],5)*p[2]*q[2]) # exponent p = 5\n",
    "    P2.append(l)\n",
    "\n",
    "q=matrix([-1]*30,(30,1),\"d\") # q,h,G must be double type matrix\n",
    "h=matrix([0]*30,(30,1),\"d\")\n",
    "G=-1*numpy.eye(30,dtype=float)    \n",
    "r2=qp(matrix(P2),q,matrix(G),h)"
   ]
  },
  {
   "cell_type": "code",
   "execution_count": 113,
   "metadata": {
    "collapsed": false
   },
   "outputs": [],
   "source": [
    "alpha=list(r2[\"x\"])\n",
    "data2_update=[]\n",
    "for i in range(len(alpha)):\n",
    "    if alpha[i]>10e-05:\n",
    "        p=data2[i]\n",
    "        data2_update.append(p+(alpha[i],))  "
   ]
  },
  {
   "cell_type": "markdown",
   "metadata": {},
   "source": [
    "# plotting decision boundary, a polynomial hyperplane"
   ]
  },
  {
   "cell_type": "code",
   "execution_count": 114,
   "metadata": {
    "collapsed": true
   },
   "outputs": [],
   "source": [
    "def indicator(x,y): # x, y are coordinates of new data points\n",
    "    sum=0\n",
    "    for p in data2_update:\n",
    "        sum+=polynomial_kernel((x,y),p[:2],5)*p[2]*p[3]\n",
    "        \n",
    "    return sum"
   ]
  },
  {
   "cell_type": "code",
   "execution_count": 117,
   "metadata": {
    "collapsed": true
   },
   "outputs": [],
   "source": [
    "xrange = numpy.arange(-6,6,0.05)\n",
    "yrange = numpy.arange(-6,6,0.05)\n",
    "grid = matrix([[indicator(x,y) for y in yrange] for x in xrange])"
   ]
  },
  {
   "cell_type": "code",
   "execution_count": 118,
   "metadata": {
    "collapsed": false
   },
   "outputs": [
    {
     "data": {
      "text/plain": [
       "<matplotlib.contour.QuadContourSet instance at 0x112a231b8>"
      ]
     },
     "execution_count": 118,
     "metadata": {},
     "output_type": "execute_result"
    },
    {
     "data": {
      "image/png": "[encoded data removed]",
      "text/plain": [
       "<matplotlib.figure.Figure at 0x112505710>"
      ]
     },
     "metadata": {},
     "output_type": "display_data"
    }
   ],
   "source": [
    "pylab.plot([p[0] for p in class1],[p[1] for p in class1],\"bo\")\n",
    "pylab.plot([p[0] for p in class2],[p[1] for p in class2],\"ro\")\n",
    "pylab.contour(xrange,yrange,grid,(-1.0,0.0,1.0),colors=(\"red\",\"black\",\"blue\"),linewidths=(1,3,1))"
   ]
  },
  {
   "cell_type": "code",
   "execution_count": null,
   "metadata": {
    "collapsed": true
   },
   "outputs": [],
   "source": [
    "# allow slack variables\n",
    "C=3\n"
   ]
  }
 ],
 "metadata": {
  "kernelspec": {
   "display_name": "Python 2",
   "language": "python",
   "name": "python2"
  },
  "language_info": {
   "codemirror_mode": {
    "name": "ipython",
    "version": 2
   },
   "file_extension": ".py",
   "mimetype": "text/x-python",
   "name": "python",
   "nbconvert_exporter": "python",
   "pygments_lexer": "ipython2",
   "version": "2.7.8"
  }
 },
 "nbformat": 4,
 "nbformat_minor": 0
}
